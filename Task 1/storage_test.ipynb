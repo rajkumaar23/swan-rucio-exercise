{
 "cells": [
  {
   "cell_type": "markdown",
   "metadata": {},
   "source": [
    "### Importing necessary libraries "
   ]
  },
  {
   "cell_type": "code",
   "execution_count": 1,
   "metadata": {},
   "outputs": [],
   "source": [
    "import string,random,os,hashlib"
   ]
  },
  {
   "cell_type": "markdown",
   "metadata": {},
   "source": [
    "### Configurable number of files and size of each file"
   ]
  },
  {
   "cell_type": "code",
   "execution_count": 2,
   "metadata": {},
   "outputs": [],
   "source": [
    "no_of_files=10\n",
    "filesize=1024*1024 #1MB"
   ]
  },
  {
   "cell_type": "markdown",
   "metadata": {},
   "source": [
    "### Writing random bytes into files"
   ]
  },
  {
   "cell_type": "code",
   "execution_count": 3,
   "metadata": {},
   "outputs": [],
   "source": [
    "if not os.path.exists('tmp'):\n",
    "    os.makedirs('tmp')\n",
    "for i in range(no_of_files):\n",
    "    name=''.join(random.choices(string.ascii_letters, k = 5)) \n",
    "    file = open('tmp/'+name,'wb') \n",
    "    file.write(os.urandom(filesize)) \n",
    "    file.close()"
   ]
  },
  {
   "cell_type": "markdown",
   "metadata": {},
   "source": [
    "### Reading the list of files and its md5 hash"
   ]
  },
  {
   "cell_type": "code",
   "execution_count": 4,
   "metadata": {},
   "outputs": [
    {
     "name": "stdout",
     "output_type": "stream",
     "text": [
      "F̲i̲l̲e̲n̲a̲m̲e  M̲D̲5̲-̲H̲a̲s̲h\n",
      "BRjyo     a416953f1e7d661ee935f5319b0be041\n",
      "pMwBl     5453a45dfc3f437ac290fcacb069cdc3\n",
      "YDYjF     61a0e39e7afaf31bd3f4d0f5861bdecb\n",
      "gLUfy     a92026171aa440b0dc718a77a3d6b24c\n",
      "TQIEQ     dd9ad37ab3f8590ff2e78ebf7407d5bc\n",
      "SbQzY     fab30d789b9d5abd6582e4e7fdcd977c\n",
      "vMDhU     2aad3fc8a518541bc4673fec9d2a8b28\n",
      "KhrAC     afe751a9e0cd72ba9644b4d728aa0061\n",
      "gmCEQ     38d01741eb5d3a7f7db5e1649214e69f\n",
      "TaKCq     3b6902779f295b8c83e888c9285c14b8\n"
     ]
    }
   ],
   "source": [
    "print(\"\\u0332\".join('Filename')+\"  \"+\"\\u0332\".join('MD5-Hash'))\n",
    "for it in os.listdir('tmp'):\n",
    "    file=open('tmp/'+it,'rb').read()\n",
    "    md5hash=hashlib.md5(file).hexdigest()\n",
    "    print('{0: <9}'.format(it) + ' ' +md5hash)"
   ]
  }
 ],
 "metadata": {
  "kernelspec": {
   "display_name": "Python 3",
   "language": "python",
   "name": "python3"
  },
  "language_info": {
   "codemirror_mode": {
    "name": "ipython",
    "version": 3
   },
   "file_extension": ".py",
   "mimetype": "text/x-python",
   "name": "python",
   "nbconvert_exporter": "python",
   "pygments_lexer": "ipython3",
   "version": "3.6.9"
  }
 },
 "nbformat": 4,
 "nbformat_minor": 2
}
