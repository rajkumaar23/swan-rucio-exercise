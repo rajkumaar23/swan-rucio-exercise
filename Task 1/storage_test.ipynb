{
 "cells": [
  {
   "cell_type": "markdown",
   "metadata": {},
   "source": [
    "### Importing necessary libraries "
   ]
  },
  {
   "cell_type": "code",
   "execution_count": 1,
   "metadata": {},
   "outputs": [],
   "source": [
    "import string \n",
    "import random\n",
    "import os\n",
    "import hashlib"
   ]
  },
  {
   "cell_type": "markdown",
   "metadata": {},
   "source": [
    "### Configurable number of files and size of each file"
   ]
  },
  {
   "cell_type": "code",
   "execution_count": 2,
   "metadata": {},
   "outputs": [],
   "source": [
    "no_of_files=10\n",
    "filesize=1024*1024 #1MB"
   ]
  },
  {
   "cell_type": "markdown",
   "metadata": {},
   "source": [
    "### Writing random bytes into files"
   ]
  },
  {
   "cell_type": "code",
   "execution_count": 3,
   "metadata": {},
   "outputs": [],
   "source": [
    "if not os.path.exists('tmp'):\n",
    "    os.makedirs('tmp')\n",
    "for i in range(no_of_files):\n",
    "    name=''.join(random.choices(string.ascii_letters, k = 5)) \n",
    "    file = open('tmp/'+name,'wb') \n",
    "    file.write(os.urandom(filesize)) \n",
    "    file.close()"
   ]
  },
  {
   "cell_type": "markdown",
   "metadata": {},
   "source": [
    "### Reading the list of files and its md5 hash"
   ]
  },
  {
   "cell_type": "code",
   "execution_count": 4,
   "metadata": {},
   "outputs": [
    {
     "name": "stdout",
     "output_type": "stream",
     "text": [
      "F̲i̲l̲e̲n̲a̲m̲e  M̲D̲5̲-̲H̲a̲s̲h\n",
      "ZzaAB     50e263d123324bb7c036668ba1b47a91\n",
      "nniSK     ab60a90a464add662223720c87482351\n",
      "nkEEa     125c8179f173d68066fda018f5e0bcd1\n",
      "TTaWb     f900f1a03fb299fe0a41c432e9b7fac5\n",
      "ntRZH     945a398e724784c6b194bc00e8786f61\n",
      "hAyCP     9251c10dd76c4213b2bc4593cb84cde5\n",
      "YquAI     821030676ae9dd8ede7e2bac7af3c48c\n",
      "bGvxM     006c0fc371d838e349f5d9da6033f7b3\n",
      "lWUeA     bed6069ede7b4eaf11ea0639994c3a25\n",
      "eWrLb     287d34eb4ed37d2f00525c4f4cd03366\n"
     ]
    }
   ],
   "source": [
    "print(\"\\u0332\".join('Filename')+\"  \"+\"\\u0332\".join('MD5-Hash'))\n",
    "for it in os.listdir('tmp'):\n",
    "    file=open('tmp/'+it,'rb').read()\n",
    "    hash=hashlib.md5(file).hexdigest()\n",
    "    print('{0: <9}'.format(it) + ' ' +hash)"
   ]
  }
 ],
 "metadata": {
  "kernelspec": {
   "display_name": "Python 3",
   "language": "python",
   "name": "python3"
  },
  "language_info": {
   "codemirror_mode": {
    "name": "ipython",
    "version": 3
   },
   "file_extension": ".py",
   "mimetype": "text/x-python",
   "name": "python",
   "nbconvert_exporter": "python",
   "pygments_lexer": "ipython3",
   "version": "3.6.9"
  }
 },
 "nbformat": 4,
 "nbformat_minor": 2
}
